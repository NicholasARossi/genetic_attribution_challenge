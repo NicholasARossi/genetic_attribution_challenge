{
 "cells": [
  {
   "cell_type": "code",
   "execution_count": 1,
   "metadata": {},
   "outputs": [
    {
     "name": "stderr",
     "output_type": "stream",
     "text": [
      "/Library/Frameworks/Python.framework/Versions/3.7/lib/python3.7/site-packages/dask/dataframe/utils.py:15: FutureWarning: pandas.util.testing is deprecated. Use the functions in the public API at pandas.testing instead.\n",
      "  import pandas.util.testing as tm\n"
     ]
    }
   ],
   "source": [
    "%load_ext autoreload\n",
    "%autoreload 2\n",
    "\n",
    "import numpy as np\n",
    "import pandas as pd\n",
    "import matplotlib.pyplot as plt\n",
    "import seaborn as sns\n",
    "try:\n",
    "    plt.style.use('rossidata')\n",
    "except:\n",
    "    sns.set_style('white')\n",
    "    \n",
    "import collections\n",
    "import scipy as sp\n",
    "import os\n",
    "import glob\n",
    "from tqdm.notebook import tqdm\n",
    "from sklearn.model_selection import KFold,train_test_split\n",
    "import lightgbm as lgb\n",
    "import swifter\n",
    "import time"
   ]
  },
  {
   "cell_type": "code",
   "execution_count": null,
   "metadata": {},
   "outputs": [],
   "source": [
    "# donwload data from here https://www.drivendata.org/competitions/63/genetic-engineering-attribution/data/\n",
    "# place in data directory\n",
    "\n",
    "test_values=pd.read_csv('../data/test_values.csv')\n",
    "train_labels=pd.read_csv('../data/train_labels.csv')\n",
    "train_values=pd.read_csv('../data/train_values.csv')"
   ]
  },
  {
   "cell_type": "code",
   "execution_count": null,
   "metadata": {},
   "outputs": [],
   "source": [
    "lgbm_lables=train_labels[train_labels.columns[1:]].idxmax(1)\n",
    "\n",
    "y_values=pd.factorize(lgbm_lables)[0]\n",
    "x_values=train_values[train_values.columns[2:]]"
   ]
  },
  {
   "cell_type": "code",
   "execution_count": null,
   "metadata": {},
   "outputs": [],
   "source": [
    "X_dataset, X_holdout, y_dataset, y_holdout = train_test_split(x_values, y_values, test_size=0.1, random_state=88)\n"
   ]
  },
  {
   "cell_type": "code",
   "execution_count": null,
   "metadata": {},
   "outputs": [],
   "source": [
    "lgb_train = lgb.Dataset(X_dataset, y_dataset)\n"
   ]
  },
  {
   "cell_type": "code",
   "execution_count": null,
   "metadata": {},
   "outputs": [],
   "source": [
    "results=[]\n",
    "\n",
    "lgbm_params =  {\n",
    "    'task': 'train',\n",
    "    'boosting_type': 'gbdt',\n",
    "    'objective': 'multiclass',\n",
    "    'num_class': len(set(y_dataset)),\n",
    "    'metric': ['multi_error'],\n",
    "    \"learning_rate\": 0.05,\n",
    "     \"num_leaves\": 60,\n",
    "     \"max_depth\": 9,\n",
    "     \"feature_fraction\": 0.45,\n",
    "     \"bagging_fraction\": 0.3,\n",
    "     \"reg_alpha\": 0.15,\n",
    "     \"reg_lambda\": 0.15,\n",
    "#      \"min_split_gain\": 0,\n",
    "      \"min_child_weight\": 0\n",
    "                }\n",
    "\n",
    "\n",
    "modelstart= time.time()\n",
    "# Find Optimal Parameters / Boosting Rounds\n",
    "lgb_cv = lgb.cv(\n",
    "    params = lgbm_params,\n",
    "    train_set = lgb_train,\n",
    "    num_boost_round=2000,\n",
    "    stratified=True,\n",
    "    nfold = 5,\n",
    "    verbose_eval=50,\n",
    "    seed = 23,\n",
    "    early_stopping_rounds=75)\n",
    "\n",
    "loss = lgbm_params[\"metric\"][0]\n",
    "optimal_rounds = np.argmin(lgb_cv[str(loss) + '-mean'])\n",
    "best_cv_score = min(lgb_cv[str(loss) + '-mean'])\n",
    "\n",
    "print(\"\\nOptimal Round: {}\\nOptimal Score: {} + {}\".format(\n",
    "    optimal_rounds,best_cv_score,lgb_cv[str(loss) + '-stdv'][optimal_rounds]))\n",
    "\n",
    "results = results.append({\"Rounds\": optimal_rounds,\n",
    "                          \"Score\": best_cv_score,\n",
    "                          \"STDV\": lgb_cv[str(loss) + '-stdv'][optimal_rounds],\n",
    "                          \"LB\": None,\n",
    "                          \"Parameters\": lgbm_params}, ignore_index=True)"
   ]
  }
 ],
 "metadata": {
  "kernelspec": {
   "display_name": "Python 3",
   "language": "python",
   "name": "python3"
  },
  "language_info": {
   "codemirror_mode": {
    "name": "ipython",
    "version": 3
   },
   "file_extension": ".py",
   "mimetype": "text/x-python",
   "name": "python",
   "nbconvert_exporter": "python",
   "pygments_lexer": "ipython3",
   "version": "3.7.2"
  }
 },
 "nbformat": 4,
 "nbformat_minor": 2
}
